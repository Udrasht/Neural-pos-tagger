{
  "cells": [
    {
      "cell_type": "code",
      "execution_count": 1,
      "metadata": {
        "colab": {
          "base_uri": "https://localhost:8080/"
        },
        "id": "imvK5FQmLp2o",
        "outputId": "5afdea1f-6383-469d-921f-b72828630146"
      },
      "outputs": [
        {
          "output_type": "stream",
          "name": "stdout",
          "text": [
            "Collecting conllu\n",
            "  Downloading conllu-4.5.3-py2.py3-none-any.whl (16 kB)\n",
            "Installing collected packages: conllu\n",
            "Successfully installed conllu-4.5.3\n"
          ]
        }
      ],
      "source": [
        "!pip install conllu"
      ]
    },
    {
      "cell_type": "code",
      "execution_count": 2,
      "metadata": {
        "id": "i3Nh4KwkNdcv"
      },
      "outputs": [],
      "source": [
        "\n",
        "import warnings\n",
        "import torch\n",
        "import torch.nn as nn\n",
        "import torch.nn.functional as F\n",
        "import torch.optim as optim\n",
        "import torchtext\n",
        "from conllu import parse\n",
        "from tqdm import tqdm\n",
        "import numpy as np\n",
        "from torch.utils.data import Dataset, DataLoader, TensorDataset\n",
        "import matplotlib.pyplot as plt\n",
        "from sklearn.metrics import classification_report, confusion_matrix\n",
        "import seaborn as sns\n",
        "\n",
        "# from conllu import parse"
      ]
    },
    {
      "cell_type": "code",
      "execution_count": 3,
      "metadata": {
        "colab": {
          "base_uri": "https://localhost:8080/"
        },
        "id": "TIESiA9mdxa3",
        "outputId": "55839bc4-128b-45ef-b2a4-24f54be2259a"
      },
      "outputs": [
        {
          "output_type": "execute_result",
          "data": {
            "text/plain": [
              "device(type='cpu')"
            ]
          },
          "metadata": {},
          "execution_count": 3
        }
      ],
      "source": [
        "device = torch.device(\"cpu\")\n",
        "# if(torch.backends.mps.is_available()):\n",
        "#     device = torch.device(\"mps\")\n",
        "if torch.cuda.is_available():\n",
        "    device = torch.device(\"cuda\")\n",
        "device"
      ]
    },
    {
      "cell_type": "markdown",
      "metadata": {
        "id": "YOCbvZX9n5Ri"
      },
      "source": [
        "File Paths"
      ]
    },
    {
      "cell_type": "code",
      "execution_count": 4,
      "metadata": {
        "id": "dzFwyAeYneAB"
      },
      "outputs": [],
      "source": [
        "\n",
        "p=2\n",
        "s=2\n",
        "trainfilePath=\"en_atis-ud-train.conllu\"\n",
        "validationfilePath=\"en_atis-ud-dev.conllu\"\n",
        "testfilePayh=\"en_atis-ud-test.conllu\""
      ]
    },
    {
      "cell_type": "markdown",
      "metadata": {
        "id": "f-9jxzevoEzt"
      },
      "source": [
        "Read Train, Test, validation data"
      ]
    },
    {
      "cell_type": "code",
      "execution_count": 5,
      "metadata": {
        "id": "ouZUv2PwKSde"
      },
      "outputs": [],
      "source": [
        "warnings.filterwarnings(\"ignore\")\n",
        "torch.manual_seed(1)\n",
        "with open(trainfilePath) as f:\n",
        "    train_data = parse(f.read())\n",
        "with open(validationfilePath) as f:\n",
        "    dev_data = parse(f.read())\n",
        "with open(testfilePayh) as f:\n",
        "    test_data = parse(f.read())"
      ]
    },
    {
      "cell_type": "markdown",
      "metadata": {
        "id": "ywhwEY5hoUty"
      },
      "source": [
        "Prepate datasets"
      ]
    },
    {
      "cell_type": "code",
      "execution_count": 6,
      "metadata": {
        "id": "bUkgCemHKfrt"
      },
      "outputs": [],
      "source": [
        "# train_data\n",
        "def prepare_datasets(dataset):\n",
        "    # dict1={}\n",
        "    mod_data = []\n",
        "    for idx in range(len(dataset)):\n",
        "        tempword = []\n",
        "        temptag = []\n",
        "        for jdx in range(len(dataset[idx])):\n",
        "            tempword.append(dataset[idx][jdx][\"form\"])\n",
        "            temptag.append(dataset[idx][jdx][\"upos\"])\n",
        "            # if dataset[idx][jdx][\"upos\"] not in dict1:\n",
        "            #     dict1[dataset[idx][jdx][\"upos\"]]=1\n",
        "\n",
        "\n",
        "        mod_data.append([tempword, temptag])\n",
        "    return mod_data\n",
        "mod_train_data = prepare_datasets(train_data)\n",
        "mod_dev_data = prepare_datasets(dev_data)\n",
        "mod_test_data = prepare_datasets(test_data)\n"
      ]
    },
    {
      "cell_type": "markdown",
      "metadata": {
        "id": "2jJ5QD-RodHB"
      },
      "source": [
        "Number of sentense in each catogery"
      ]
    },
    {
      "cell_type": "code",
      "execution_count": 7,
      "metadata": {
        "colab": {
          "base_uri": "https://localhost:8080/"
        },
        "id": "HG5JcpEZPNWH",
        "outputId": "0cf87719-2a19-4487-cf04-7aa0bd77774f"
      },
      "outputs": [
        {
          "output_type": "stream",
          "name": "stdout",
          "text": [
            "Number of training examples: 4274\n",
            "Number of validation examples: 572\n",
            "Number of testing examples: 586\n"
          ]
        }
      ],
      "source": [
        "print(f\"Number of training examples: {len(mod_train_data)}\")\n",
        "print(f\"Number of validation examples: {len(mod_dev_data)}\")\n",
        "print(f\"Number of testing examples: {len(mod_test_data)}\")"
      ]
    },
    {
      "cell_type": "markdown",
      "metadata": {
        "id": "l0vk0Pmgo95K"
      },
      "source": [
        " create vocab for train data"
      ]
    },
    {
      "cell_type": "code",
      "execution_count": 8,
      "metadata": {
        "colab": {
          "base_uri": "https://localhost:8080/"
        },
        "id": "8Njhdn5iPxi2",
        "outputId": "d2990e0c-add6-4a77-ddb2-3d613e556fa4"
      },
      "outputs": [
        {
          "output_type": "stream",
          "name": "stdout",
          "text": [
            "{'PART': 11, 'ADV': 10, 'CCONJ': 9, 'INTJ': 12, 'AUX': 6, 'VERB': 3, 'NUM': 8, 'NOUN': 2, 'ADJ': 7, 'ADP': 1, 'PRON': 5, 'DET': 4, 'PROPN': 0}\n",
            "Unique words: 601\n",
            "Unique tags: 13\n"
          ]
        }
      ],
      "source": [
        "# create vocab for train\n",
        "words_list = [sublist[0] for sublist in mod_train_data]\n",
        "word_vocab = torchtext.vocab.build_vocab_from_iterator(words_list, min_freq=2)\n",
        "word_vocab.insert_token(\"<unk>\", 0)\n",
        "word_vocab.set_default_index(word_vocab[\"<unk>\"])\n",
        "\n",
        "tags_list = [sublist[1] for sublist in mod_train_data]\n",
        "tag_vocab = torchtext.vocab.build_vocab_from_iterator(tags_list)\n",
        "# tag_vocab.insert_token(\"<unk>\", 0)\n",
        "# tag_vocab.set_default_index(tag_vocab[\"<unk>\"])\n",
        "\n",
        "\n",
        "itos_mapping = tag_vocab.get_stoi()\n",
        "\n",
        "# Print the vocabulary\n",
        "print(itos_mapping)\n",
        "print(f\"Unique words: {len(word_vocab)}\")\n",
        "print(f\"Unique tags: {len(tag_vocab)}\")"
      ]
    },
    {
      "cell_type": "markdown",
      "metadata": {
        "id": "uNJSXhQyqVPp"
      },
      "source": [
        "Padding"
      ]
    },
    {
      "cell_type": "code",
      "execution_count": 9,
      "metadata": {
        "id": "fX0i4mjCqakh"
      },
      "outputs": [],
      "source": [
        "X_train = [sublist[0] for sublist in mod_train_data]\n",
        "Y_train=[sublist[1] for sublist in mod_train_data]\n",
        "\n",
        "\n",
        "X_valid = [sublist[0] for sublist in mod_dev_data]\n",
        "Y_valid=[sublist[1] for sublist in mod_dev_data]\n",
        "\n",
        "\n",
        "\n",
        "X_test = [sublist[0] for sublist in mod_test_data]\n",
        "Y_test=[sublist[1] for sublist in mod_test_data]\n",
        "\n",
        "\n",
        "\n",
        "def padding(X,start_symbol,end_symbol):\n",
        "  modified_list_of_lists = [[start_symbol] * p + sublist + [end_symbol] * s for sublist in X]\n",
        "  return modified_list_of_lists\n",
        "\n",
        "\n",
        "\n",
        "\n",
        "\n",
        "def replace_word_in_lists(list_of_lists, X_list_of_list, word_to_replace):\n",
        "    updated_list_of_lists = []\n",
        "    updated_X_list_of_list = []\n",
        "\n",
        "    for sub_list, X_sub_list in zip(list_of_lists, X_list_of_list):\n",
        "        updated_sub_list = []\n",
        "        updated_sub_list_X = []\n",
        "\n",
        "        for word, X_word in zip(sub_list, X_sub_list):\n",
        "            if word == word_to_replace:\n",
        "                # Skip adding word_to_replace and its corresponding element\n",
        "                continue\n",
        "\n",
        "            updated_sub_list.append(word)\n",
        "            updated_sub_list_X.append(X_word)\n",
        "\n",
        "        updated_list_of_lists.append(updated_sub_list)\n",
        "        updated_X_list_of_list.append(updated_sub_list_X)\n",
        "\n",
        "    return updated_list_of_lists, updated_X_list_of_list\n",
        "\n",
        "Y_valid,X_valid=replace_word_in_lists(Y_valid,X_valid,'SYM')\n"
      ]
    },
    {
      "cell_type": "code",
      "execution_count": 10,
      "metadata": {
        "id": "pQS0BoVyv3aJ"
      },
      "outputs": [],
      "source": [
        "X_train=padding(X_train,\"<s>\",\"</s>\")\n",
        "\n",
        "\n",
        "\n",
        "X_valid=padding(X_valid,\"<s>\",\"</s>\")\n",
        "\n",
        "\n",
        "X_test=padding(X_test,\"<s>\",\"</s>\")\n"
      ]
    },
    {
      "cell_type": "markdown",
      "metadata": {
        "id": "eMzisLo3QcYk"
      },
      "source": [
        "Embeding"
      ]
    },
    {
      "cell_type": "code",
      "execution_count": 11,
      "metadata": {
        "id": "xrvnblLZQb4l"
      },
      "outputs": [],
      "source": [
        "from ast import keyword\n",
        "def sequence_to_idx(X, ix):\n",
        "  encoded_X=[]\n",
        "  for sent in X:\n",
        "    ans=[]\n",
        "\n",
        "\n",
        "    for word in sent:\n",
        "      try:\n",
        "        ans.append(ix[word])\n",
        "      except KeyError:\n",
        "        ans.append(0)\n",
        "\n",
        "    encoded_X.append(ans)\n",
        "  return encoded_X\n",
        "\n",
        "def sequence_to_idx_user(X, ix):\n",
        "  encoded_X=[]\n",
        "\n",
        "  for word in X:\n",
        "    try:\n",
        "      encoded_X.append(ix[word])\n",
        "    except KeyError:\n",
        "      encoded_X.append(0)\n",
        "  return encoded_X\n",
        "\n",
        "\n",
        "\n",
        "X_train_encoded=sequence_to_idx(X_train,word_vocab)\n",
        "Y_train_encoded=sequence_to_idx(Y_train,tag_vocab)\n",
        "\n",
        "\n",
        "\n",
        "X_valid_encoded=sequence_to_idx(X_valid,word_vocab)\n",
        "Y_valid_encoded=sequence_to_idx(Y_valid,tag_vocab)\n",
        "\n",
        "\n",
        "\n",
        "X_test_encoded=sequence_to_idx(X_test,word_vocab)\n",
        "Y_test_encoded=sequence_to_idx(Y_test,tag_vocab)\n",
        "\n",
        "\n",
        "\n",
        "\n"
      ]
    },
    {
      "cell_type": "markdown",
      "metadata": {
        "id": "DcGbxBx-0PUa"
      },
      "source": [
        "One-hot-encodeing"
      ]
    },
    {
      "cell_type": "code",
      "execution_count": 12,
      "metadata": {
        "id": "MkVT83ro0SJ5"
      },
      "outputs": [],
      "source": [
        "def one_hot_encodeing(X,vector_size):\n",
        "  one_hot_encoding_vec=[]\n",
        "  for vec in X:\n",
        "    one_hot_of_sentense=[]\n",
        "    for idx in vec:\n",
        "      vector = [1 if i == idx else 0 for i in range(vector_size)]\n",
        "      one_hot_of_sentense.append(vector)\n",
        "    one_hot_encoding_vec.append(one_hot_of_sentense)\n",
        "  return one_hot_encoding_vec\n",
        "\n",
        "def one_hot_encodeing_user(X,vector_size):\n",
        "  one_hot_encoding_vec=[]\n",
        "\n",
        "  for idx in X:\n",
        "    vector = [1 if i == idx else 0 for i in range(vector_size)]\n",
        "    one_hot_encoding_vec.append(vector)\n",
        "  return one_hot_encoding_vec\n",
        "\n",
        "\n",
        "\n",
        "\n"
      ]
    },
    {
      "cell_type": "code",
      "execution_count": 13,
      "metadata": {
        "id": "y2EXeieNdlfI"
      },
      "outputs": [],
      "source": [
        "X_train_one_hot_encoded=one_hot_encodeing(X_train_encoded,len(word_vocab))\n",
        "y_train_one_hot_encoded=one_hot_encodeing(Y_train_encoded,len(tag_vocab))\n",
        "\n",
        "\n",
        "\n",
        "X_valid_one_hot_encoded=one_hot_encodeing(X_valid_encoded,len(word_vocab))\n",
        "y_valid_one_hot_encoded=one_hot_encodeing(Y_valid_encoded,len(tag_vocab))\n",
        "\n",
        "\n",
        "\n",
        "\n",
        "X_test_one_hot_encoded=one_hot_encodeing(X_test_encoded,len(word_vocab))\n",
        "y_test_one_hot_encoded=one_hot_encodeing(Y_test_encoded,len(tag_vocab))"
      ]
    },
    {
      "cell_type": "markdown",
      "metadata": {
        "id": "if422lI84OpJ"
      },
      "source": [
        "make P+1+S length input"
      ]
    },
    {
      "cell_type": "code",
      "execution_count": 14,
      "metadata": {
        "id": "t15jxsX-4Gth"
      },
      "outputs": [],
      "source": [
        "def create_matrix(X, Y):\n",
        "    X_mat = []\n",
        "    Y_mat = []\n",
        "    for x, y in zip(X, Y):\n",
        "        sublists = [x[i:i+p+s+1] for i in range(len(x) - (p+s+1) + 1)]\n",
        "        sublist2 = [y[i] for i in range(len(y))]  # Adjust range for Y_mat\n",
        "        X_mat.extend(sublists)\n",
        "        Y_mat.extend(sublist2)\n",
        "    return X_mat, Y_mat\n",
        "\n",
        "\n",
        "\n",
        "X_mat, Y_mat = create_matrix(X_train_one_hot_encoded, y_train_one_hot_encoded)\n",
        "\n",
        "X_mat_valid, Y_mat_valid = create_matrix(X_valid_one_hot_encoded, y_valid_one_hot_encoded)\n",
        "\n",
        "\n",
        "X_mat_test, Y_mat_test = create_matrix(X_test_one_hot_encoded, y_test_one_hot_encoded)\n"
      ]
    },
    {
      "cell_type": "code",
      "execution_count": 15,
      "metadata": {
        "id": "jN-7tuCoffQZ"
      },
      "outputs": [],
      "source": [
        "def create_matrix_user(X):\n",
        "    X_mat = []\n",
        "\n",
        "\n",
        "    sublists = [X[i:i+p+s+1] for i in range(len(X) - (p+s+1) + 1)]\n",
        "    X_mat.extend(sublists)\n",
        "\n",
        "    return X_mat"
      ]
    },
    {
      "cell_type": "code",
      "execution_count": 16,
      "metadata": {
        "colab": {
          "base_uri": "https://localhost:8080/"
        },
        "id": "rk5tULmn9dsE",
        "outputId": "e0c3d5e6-bbc0-4e1f-8473-1a12b97a3d92"
      },
      "outputs": [
        {
          "output_type": "stream",
          "name": "stdout",
          "text": [
            "train\n",
            "(48655, 5, 601)\n",
            "(48655, 13)\n",
            "valid\n",
            "(6642, 5, 601)\n",
            "(6642, 13)\n",
            "test\n",
            "(6580, 5, 601)\n",
            "(6580, 13)\n"
          ]
        }
      ],
      "source": [
        "X_train_input = np.array(X_mat)\n",
        "Y_train_input = np.array(Y_mat)\n",
        "\n",
        "\n",
        "X_valid_input = np.array(X_mat_valid)\n",
        "Y_valid_input = np.array(Y_mat_valid)\n",
        "\n",
        "\n",
        "X_test_input = np.array(X_mat_test)\n",
        "Y_test_input = np.array(Y_mat_test)\n",
        "\n",
        "print(\"train\")\n",
        "print(X_train_input.shape)\n",
        "print(Y_train_input.shape)\n",
        "\n",
        "\n",
        "print(\"valid\")\n",
        "print(X_valid_input.shape)\n",
        "print(Y_valid_input.shape)\n",
        "\n",
        "\n",
        "\n",
        "print(\"test\")\n",
        "print(X_test_input.shape)\n",
        "print(Y_test_input.shape)\n",
        "\n"
      ]
    },
    {
      "cell_type": "code",
      "execution_count": 17,
      "metadata": {
        "id": "tBSWAuyH-lGS"
      },
      "outputs": [],
      "source": [
        "embedding_dim = 601\n",
        "\n",
        "hidden_dim = 128\n",
        "output_dim = 13  # Number of POS tags\n",
        "batch_size = 32\n",
        "num_epochs = 50\n",
        "L_R=0.0001"
      ]
    },
    {
      "cell_type": "markdown",
      "metadata": {
        "id": "IoCerj4as-n0"
      },
      "source": [
        "# FFNN"
      ]
    },
    {
      "cell_type": "code",
      "execution_count": 18,
      "metadata": {
        "id": "JmTnMXwXtFd8"
      },
      "outputs": [],
      "source": [
        "# Define the Feed Forward Neural Network model\n",
        "class FFNN_POS_Tagger(nn.Module):\n",
        "    def __init__(self, embedding_dim, p, s, hidden_dim, output_dim):\n",
        "        super(FFNN_POS_Tagger, self).__init__()\n",
        "        self.embedding_dim = embedding_dim\n",
        "        self.p = p\n",
        "        self.s = s\n",
        "        self.input_dim = embedding_dim * (p + s + 1)\n",
        "        self.hidden_dim = hidden_dim\n",
        "        self.output_dim = output_dim\n",
        "        self.fc1 = nn.Linear(self.input_dim, self.hidden_dim)\n",
        "        self.fc2 = nn.Linear(self.hidden_dim, self.output_dim)\n",
        "\n",
        "    def forward(self, inputs):\n",
        "        x = inputs.view(-1, self.input_dim)\n",
        "        x = torch.relu(self.fc1(x))\n",
        "        x = self.fc2(x)\n",
        "        return x\n",
        "\n",
        "\n",
        "\n",
        "\n",
        "\n",
        "# Instantiate the model, loss function, and optimizer\n",
        "model = FFNN_POS_Tagger(embedding_dim, p, s, hidden_dim, output_dim)\n",
        "criterion = nn.CrossEntropyLoss()\n",
        "optimizer = optim.Adam(model.parameters(), lr=L_R)\n",
        "\n",
        "X_train_tensor = torch.tensor(X_train_input)\n",
        "y_train_tensor = torch.tensor(Y_train_input)\n",
        "X_valid_tensor = torch.tensor(X_valid_input)\n",
        "y_valid_tensor = torch.tensor(Y_valid_input)\n",
        "X_test_tensor = torch.tensor(X_test_input)\n",
        "y_test_tensor = torch.tensor(Y_test_input)\n",
        "\n"
      ]
    },
    {
      "cell_type": "code",
      "execution_count": 19,
      "metadata": {
        "id": "NxrW6f1_wTDW"
      },
      "outputs": [],
      "source": [
        "\n",
        "\n",
        "train_loader = DataLoader(TensorDataset(X_train_tensor, y_train_tensor), batch_size=32, shuffle=True)\n",
        "validation_loader = DataLoader(TensorDataset(X_valid_tensor, y_valid_tensor), batch_size=32)\n",
        "test_loader = DataLoader(TensorDataset(X_test_tensor, y_test_tensor), batch_size=1)"
      ]
    },
    {
      "cell_type": "code",
      "execution_count": 20,
      "metadata": {
        "id": "xhCw6xoP6UL1"
      },
      "outputs": [],
      "source": [
        "def transform_to_one_hot_ffnn(tensor):\n",
        "    \"\"\"\n",
        "    Transforms each row in the given PyTorch tensor to a one-hot encoding format,\n",
        "    where the maximum value in each row is set to 1 and all other values are set to 0.\n",
        "\n",
        "    Args:\n",
        "    - tensor (torch.Tensor): A PyTorch tensor containing float values.\n",
        "\n",
        "    Returns:\n",
        "    - torch.Tensor: The transformed tensor with one-hot encoding format.\n",
        "    \"\"\"\n",
        "    transformed_tensor = torch.zeros_like(tensor)\n",
        "    max_values, max_indices = torch.max(tensor, dim=1)\n",
        "    for i in range(len(tensor)):\n",
        "        transformed_tensor[i, max_indices[i]] = 1.\n",
        "    return transformed_tensor\n",
        "def transform_to_one_hot_user_ffnn(tensor):\n",
        "    max_index = torch.argmax(tensor)\n",
        "    return max_index\n",
        "\n",
        "def howmany_equal_ffnn(predicted_val, targets):\n",
        "    t = 0\n",
        "    for t1, t2 in zip(predicted_val, targets):\n",
        "        if torch.all(t1.eq(t2)):\n",
        "            t += 1\n",
        "    return t"
      ]
    },
    {
      "cell_type": "code",
      "execution_count": 21,
      "metadata": {
        "colab": {
          "base_uri": "https://localhost:8080/"
        },
        "id": "nfN1b8nty8hz",
        "outputId": "6e860d0a-8535-47f1-8c7d-6e022b791e24"
      },
      "outputs": [
        {
          "output_type": "execute_result",
          "data": {
            "text/plain": [
              "<torch.utils.data.dataloader.DataLoader at 0x78e1c0736d40>"
            ]
          },
          "metadata": {},
          "execution_count": 21
        }
      ],
      "source": [
        "train_loader"
      ]
    },
    {
      "cell_type": "code",
      "execution_count": 22,
      "metadata": {
        "colab": {
          "base_uri": "https://localhost:8080/"
        },
        "id": "XmOz8k2RwyeU",
        "outputId": "445905cc-d947-49fb-c5ee-69786a252c25"
      },
      "outputs": [
        {
          "output_type": "stream",
          "name": "stdout",
          "text": [
            "Epoch 1/50, Validation Accuracy: 0.8589280337247817\n",
            "Epoch 2/50, Validation Accuracy: 0.9396266184884071\n",
            "Epoch 3/50, Validation Accuracy: 0.9601023788015658\n",
            "Epoch 4/50, Validation Accuracy: 0.9732008431195424\n",
            "Epoch 5/50, Validation Accuracy: 0.9787714543812105\n",
            "Epoch 6/50, Validation Accuracy: 0.9796747967479674\n",
            "Epoch 7/50, Validation Accuracy: 0.9787714543812105\n",
            "Epoch 8/50, Validation Accuracy: 0.980126467931346\n",
            "Epoch 9/50, Validation Accuracy: 0.9808792532369768\n",
            "Epoch 10/50, Validation Accuracy: 0.9799759108702198\n",
            "Epoch 11/50, Validation Accuracy: 0.980126467931346\n",
            "Epoch 12/50, Validation Accuracy: 0.9817825956037338\n",
            "Epoch 13/50, Validation Accuracy: 0.9820837097259861\n",
            "Epoch 14/50, Validation Accuracy: 0.98193315266486\n",
            "Epoch 15/50, Validation Accuracy: 0.9813309244203553\n",
            "Epoch 16/50, Validation Accuracy: 0.981029810298103\n",
            "Epoch 17/50, Validation Accuracy: 0.9822342667871123\n",
            "Epoch 18/50, Validation Accuracy: 0.9814814814814815\n",
            "Epoch 19/50, Validation Accuracy: 0.9807286961758507\n",
            "Epoch 20/50, Validation Accuracy: 0.981029810298103\n",
            "Epoch 21/50, Validation Accuracy: 0.9805781391147245\n",
            "Epoch 22/50, Validation Accuracy: 0.9798253538090936\n",
            "Epoch 23/50, Validation Accuracy: 0.981029810298103\n",
            "Epoch 24/50, Validation Accuracy: 0.9817825956037338\n",
            "Epoch 25/50, Validation Accuracy: 0.981029810298103\n",
            "Epoch 26/50, Validation Accuracy: 0.9814814814814815\n",
            "Epoch 27/50, Validation Accuracy: 0.9817825956037338\n",
            "Epoch 28/50, Validation Accuracy: 0.981029810298103\n",
            "Epoch 29/50, Validation Accuracy: 0.9816320385426076\n",
            "Epoch 30/50, Validation Accuracy: 0.9808792532369768\n",
            "Epoch 31/50, Validation Accuracy: 0.9795242396868413\n",
            "Epoch 32/50, Validation Accuracy: 0.981029810298103\n",
            "Epoch 33/50, Validation Accuracy: 0.9813309244203553\n",
            "Epoch 34/50, Validation Accuracy: 0.9811803673592292\n",
            "Epoch 35/50, Validation Accuracy: 0.9807286961758507\n",
            "Epoch 36/50, Validation Accuracy: 0.9795242396868413\n",
            "Epoch 37/50, Validation Accuracy: 0.9802770249924722\n",
            "Epoch 38/50, Validation Accuracy: 0.9784703402589582\n",
            "Epoch 39/50, Validation Accuracy: 0.981029810298103\n",
            "Epoch 40/50, Validation Accuracy: 0.9802770249924722\n",
            "Epoch 41/50, Validation Accuracy: 0.980126467931346\n",
            "Epoch 42/50, Validation Accuracy: 0.9802770249924722\n",
            "Epoch 43/50, Validation Accuracy: 0.9804275820535984\n",
            "Epoch 44/50, Validation Accuracy: 0.9805781391147245\n",
            "Epoch 45/50, Validation Accuracy: 0.9807286961758507\n",
            "Epoch 46/50, Validation Accuracy: 0.980126467931346\n",
            "Epoch 47/50, Validation Accuracy: 0.9799759108702198\n",
            "Epoch 48/50, Validation Accuracy: 0.980126467931346\n",
            "Epoch 49/50, Validation Accuracy: 0.9802770249924722\n",
            "Epoch 50/50, Validation Accuracy: 0.981029810298103\n"
          ]
        }
      ],
      "source": [
        "def train_model_ffnn(model,criterion,optimizer,num_epochs,train_loader,validation_loader):\n",
        "  epoch_v=[]\n",
        "  val_v=[]\n",
        "  loss_v=[]\n",
        "\n",
        "  for epoch in range(num_epochs):\n",
        "      model.train()\n",
        "\n",
        "      for inputs, targets in train_loader:\n",
        "          optimizer.zero_grad()\n",
        "          inputs = inputs.float()  # Convert input to float data type\n",
        "          outputs = model(inputs)\n",
        "          targets = targets.float()\n",
        "          loss = criterion(outputs, targets)\n",
        "\n",
        "          loss.backward()\n",
        "          optimizer.step()\n",
        "\n",
        "      # Validation loop\n",
        "      model.eval()\n",
        "      with torch.no_grad():\n",
        "          total_val = 0\n",
        "          correct_val = 0\n",
        "          loss_val=0\n",
        "\n",
        "\n",
        "          for inputs, targets in validation_loader:\n",
        "              inputs = inputs.float()  # Convert input to float data type\n",
        "              outputs = model(inputs)\n",
        "              targets = targets.float()\n",
        "\n",
        "\n",
        "              predicted_val = transform_to_one_hot_ffnn(outputs)\n",
        "              loss = criterion(outputs, targets)\n",
        "              loss_val=loss_val+loss.item()\n",
        "\n",
        "              total_val += targets.size(0)\n",
        "              # correct_val += (predicted_val == targets).sum().item()\n",
        "              correct_match= howmany_equal_ffnn(predicted_val, targets)\n",
        "              correct_val=correct_val+correct_match\n",
        "\n",
        "\n",
        "\n",
        "\n",
        "          accuracy_val = correct_val / total_val\n",
        "          loss_val=loss_val/total_val\n",
        "\n",
        "\n",
        "          epoch_v.append(epoch+1)\n",
        "          val_v.append(accuracy_val)\n",
        "          loss_v.append(loss_val)\n",
        "          print(f'Epoch {epoch+1}/{num_epochs}, Validation Accuracy: {accuracy_val}')\n",
        "  return epoch_v,val_v,loss_v\n",
        "\n",
        "epoch_v,val_v,loss_v=train_model_ffnn(model,criterion,optimizer,num_epochs,train_loader,validation_loader)\n"
      ]
    },
    {
      "cell_type": "code",
      "execution_count": 23,
      "metadata": {
        "colab": {
          "base_uri": "https://localhost:8080/"
        },
        "id": "RAdbxdrGLE3n",
        "outputId": "81003331-a073-4120-8d88-1cc969793912"
      },
      "outputs": [
        {
          "output_type": "stream",
          "name": "stdout",
          "text": [
            "[1, 2, 3, 4, 5, 6, 7, 8, 9, 10, 11, 12, 13, 14, 15, 16, 17, 18, 19, 20, 21, 22, 23, 24, 25, 26, 27, 28, 29, 30, 31, 32, 33, 34, 35, 36, 37, 38, 39, 40, 41, 42, 43, 44, 45, 46, 47, 48, 49, 50]\n",
            "[0.8589280337247817, 0.9396266184884071, 0.9601023788015658, 0.9732008431195424, 0.9787714543812105, 0.9796747967479674, 0.9787714543812105, 0.980126467931346, 0.9808792532369768, 0.9799759108702198, 0.980126467931346, 0.9817825956037338, 0.9820837097259861, 0.98193315266486, 0.9813309244203553, 0.981029810298103, 0.9822342667871123, 0.9814814814814815, 0.9807286961758507, 0.981029810298103, 0.9805781391147245, 0.9798253538090936, 0.981029810298103, 0.9817825956037338, 0.981029810298103, 0.9814814814814815, 0.9817825956037338, 0.981029810298103, 0.9816320385426076, 0.9808792532369768, 0.9795242396868413, 0.981029810298103, 0.9813309244203553, 0.9811803673592292, 0.9807286961758507, 0.9795242396868413, 0.9802770249924722, 0.9784703402589582, 0.981029810298103, 0.9802770249924722, 0.980126467931346, 0.9802770249924722, 0.9804275820535984, 0.9805781391147245, 0.9807286961758507, 0.980126467931346, 0.9799759108702198, 0.980126467931346, 0.9802770249924722, 0.981029810298103]\n",
            "[0.019911996726349367, 0.008933531095741278, 0.00522365655934562, 0.00364471163801334, 0.0028486092340311068, 0.002453415803966028, 0.002244103052066563, 0.002087782720434492, 0.0019510055589379218, 0.0018785666078347315, 0.001872509093102814, 0.001812679116694069, 0.00174724614338409, 0.0017884245647788574, 0.0017738556236004432, 0.0017964786137702484, 0.001797561633297831, 0.001837493705909553, 0.001887400528870718, 0.0018857534432973708, 0.0018763158827422438, 0.0019218878499124572, 0.0018984199511916152, 0.0019324803527540247, 0.0019346351614321486, 0.0019701560495610417, 0.001995195213192689, 0.002021896031036277, 0.0020545822162258078, 0.002063375318622802, 0.0021576566007803473, 0.0021381189006287452, 0.0021179189579078918, 0.0021565319638487497, 0.00224046546692334, 0.0022676037318736402, 0.002320178482348523, 0.002358891848254681, 0.0022801553083759423, 0.0023058651507116123, 0.002341608646754674, 0.002385715344871573, 0.0024208391944960566, 0.0024516222788140947, 0.0024645898219881977, 0.002526272506622112, 0.00257976783409427, 0.0025662863029060103, 0.0025576530298954277, 0.0025747939025420196]\n"
          ]
        }
      ],
      "source": [
        "print(epoch_v)\n",
        "print(val_v)\n",
        "print(loss_v)\n",
        "torch.save(model.state_dict(), 'ffnn_model2.pt')"
      ]
    },
    {
      "cell_type": "code",
      "execution_count": 24,
      "metadata": {
        "id": "PJdvcgQiIK4h"
      },
      "outputs": [],
      "source": [
        "def plot_graph_ffnn(epoch_v, loss_v,val_v):\n",
        "  plt.figure(figsize=(10, 5))\n",
        "  plt.plot(epoch_v, loss_v, marker='o', color='green', label='Validation Loss')\n",
        "  plt.title('Validation Loss vs Epoch')\n",
        "  plt.xlabel('Epoch')\n",
        "  plt.ylabel('Loss')\n",
        "  plt.legend()\n",
        "  plt.grid(True)\n",
        "  plt.show()\n",
        "\n",
        "\n",
        "\n",
        "\n",
        "  # Plotting accuracy vs epoch\n",
        "  plt.figure(figsize=(10, 5))\n",
        "  plt.plot(epoch_v, val_v, marker='o', color='blue', label='Validation Accuracy')\n",
        "  plt.title('Validation Accuracy vs Epoch')\n",
        "  plt.xlabel('Epoch')\n",
        "  plt.ylabel('Accuracy')\n",
        "  plt.legend()\n",
        "  plt.grid(True)\n",
        "  plt.show()"
      ]
    },
    {
      "cell_type": "code",
      "execution_count": 25,
      "metadata": {
        "colab": {
          "base_uri": "https://localhost:8080/",
          "height": 888
        },
        "id": "BR9PcCAeqL3I",
        "outputId": "eebd8c74-9eba-45c0-bc34-98dea2d65a95"
      },
      "outputs": [
        {
          "output_type": "display_data",
          "data": {
            "text/plain": [
              "<Figure size 1000x500 with 1 Axes>"
            ],
            "image/png": "[encoded data removed]"
          },
          "metadata": {}
        },
        {
          "output_type": "display_data",
          "data": {
            "text/plain": [
              "<Figure size 1000x500 with 1 Axes>"
            ],
            "image/png": "[encoded data removed]"
          },
          "metadata": {}
        }
      ],
      "source": [
        "plot_graph_ffnn(epoch_v, loss_v,val_v)"
      ]
    },
    {
      "cell_type": "markdown",
      "metadata": {
        "id": "Nt7k97weONYl"
      },
      "source": [
        "test accuracy\n"
      ]
    },
    {
      "cell_type": "code",
      "execution_count": 26,
      "metadata": {
        "id": "GOowsfb7OP69"
      },
      "outputs": [],
      "source": [
        "def test_model_ffnn(model,test_loader):\n",
        "  empty_shape = (0, 13)\n",
        "  pred_vector= torch.empty(empty_shape)\n",
        "  model.eval()\n",
        "  with torch.no_grad():\n",
        "      total_test = 0\n",
        "      correct_test = 0\n",
        "\n",
        "      for inputs, target in test_loader:\n",
        "\n",
        "          inputs = inputs.float()   # Convert input to float data type\n",
        "          outputs = model(inputs)\n",
        "\n",
        "\n",
        "          predicted_val = transform_to_one_hot_ffnn(outputs)\n",
        "          pred_vector = torch.cat((pred_vector, predicted_val), dim=0)\n",
        "          total_test += 1\n",
        "          correct_match= howmany_equal_ffnn(predicted_val, target)\n",
        "\n",
        "          correct_test += correct_match\n",
        "      accuracy_test = correct_test / total_test\n",
        "      print(f'Test Accuracy: {accuracy_test}')\n",
        "  return pred_vector\n",
        "\n",
        "\n"
      ]
    },
    {
      "cell_type": "code",
      "execution_count": 27,
      "metadata": {
        "colab": {
          "base_uri": "https://localhost:8080/"
        },
        "id": "BvY1JnRjqb8A",
        "outputId": "d741d908-533c-4864-ad7f-a7a6b5b6440e"
      },
      "outputs": [
        {
          "output_type": "stream",
          "name": "stdout",
          "text": [
            "Test Accuracy: 0.9820668693009118\n"
          ]
        }
      ],
      "source": [
        "pred_vector=test_model_ffnn(model,test_loader)"
      ]
    },
    {
      "cell_type": "code",
      "execution_count": 28,
      "metadata": {
        "colab": {
          "base_uri": "https://localhost:8080/"
        },
        "id": "Sy-VUW9FOP6h",
        "outputId": "837274de-8dc9-4128-89de-58ba15271bad"
      },
      "outputs": [
        {
          "output_type": "stream",
          "name": "stdout",
          "text": [
            "torch.Size([6580, 13])\n",
            "torch.Size([6580, 13])\n"
          ]
        }
      ],
      "source": [
        "print(pred_vector.shape)\n",
        "print(y_test_tensor.shape)\n",
        "\n",
        "pred_vector = torch.argmax(pred_vector, dim=1)\n",
        "y_test_tensor = torch.argmax(y_test_tensor, dim=1)"
      ]
    },
    {
      "cell_type": "code",
      "execution_count": 29,
      "metadata": {
        "id": "GOuf1qHyOh8c"
      },
      "outputs": [],
      "source": [
        "import pandas as pd\n",
        "\n",
        "# Calculate confusion matrix\n",
        "def confusion_matrix_ffnn(y_test_tensor,pred_vector):\n",
        "  conf_matrix = confusion_matrix(y_test_tensor, pred_vector)\n",
        "\n",
        "  plt.figure(figsize=(10, 8))\n",
        "  sns.heatmap(conf_matrix, annot=True, fmt='d', cmap='Blues')\n",
        "  plt.xlabel('Predicted Labels')\n",
        "  plt.ylabel('True Labels')\n",
        "  plt.title('Confusion Matrix')\n",
        "  plt.show()\n",
        "\n",
        "\n",
        "\n",
        "  print(\"Classification Report :\")\n",
        "  report = classification_report(y_test_tensor, pred_vector, output_dict=True)\n",
        "  df = pd.DataFrame(report).transpose()\n",
        "  cm = sns.light_palette(\"green\", as_cmap=True)\n",
        "  styled_table = df.style.background_gradient(cmap=cm)\n",
        "  return styled_table,conf_matrix"
      ]
    },
    {
      "cell_type": "code",
      "execution_count": 30,
      "metadata": {
        "colab": {
          "base_uri": "https://localhost:8080/",
          "height": 1000
        },
        "id": "Uyvf_DsAq9pB",
        "outputId": "3c650639-a22a-4596-8ba7-b7958010c793"
      },
      "outputs": [
        {
          "output_type": "display_data",
          "data": {
            "text/plain": [
              "<Figure size 1000x800 with 2 Axes>"
            ],
            "image/png": "[encoded data removed]"
          },
          "metadata": {}
        },
        {
          "output_type": "stream",
          "name": "stdout",
          "text": [
            "Classification Report :\n"
          ]
        },
        {
          "output_type": "execute_result",
          "data": {
            "text/plain": [
              "<pandas.io.formats.style.Styler at 0x78e2a4b7e350>"
            ],
            "text/html": [
              "<style type=\"text/css\">\n",
              "#T_3226c_row0_col0, #T_3226c_row3_col1 {\n",
              "  background-color: #178b17;\n",
              "  color: #f1f1f1;\n",
              "}\n",
              "#T_3226c_row0_col1, #T_3226c_row9_col0, #T_3226c_row9_col2, #T_3226c_row12_col0, #T_3226c_row14_col3, #T_3226c_row15_col3 {\n",
              "  background-color: #008000;\n",
              "  color: #f1f1f1;\n",
              "}\n",
              "#T_3226c_row0_col2 {\n",
              "  background-color: #058205;\n",
              "  color: #f1f1f1;\n",
              "}\n",
              "#T_3226c_row0_col3 {\n",
              "  background-color: #b3d8b3;\n",
              "  color: #000000;\n",
              "}\n",
              "#T_3226c_row1_col0, #T_3226c_row4_col2 {\n",
              "  background-color: #0d860d;\n",
              "  color: #f1f1f1;\n",
              "}\n",
              "#T_3226c_row1_col1 {\n",
              "  background-color: #038103;\n",
              "  color: #f1f1f1;\n",
              "}\n",
              "#T_3226c_row1_col2, #T_3226c_row2_col1 {\n",
              "  background-color: #048204;\n",
              "  color: #f1f1f1;\n",
              "}\n",
              "#T_3226c_row1_col3 {\n",
              "  background-color: #b8dab8;\n",
              "  color: #000000;\n",
              "}\n",
              "#T_3226c_row2_col0 {\n",
              "  background-color: #1f8f1f;\n",
              "  color: #f1f1f1;\n",
              "}\n",
              "#T_3226c_row2_col2, #T_3226c_row6_col2 {\n",
              "  background-color: #0a850a;\n",
              "  color: #f1f1f1;\n",
              "}\n",
              "#T_3226c_row2_col3 {\n",
              "  background-color: #c1dfc1;\n",
              "  color: #000000;\n",
              "}\n",
              "#T_3226c_row3_col0 {\n",
              "  background-color: #359a35;\n",
              "  color: #f1f1f1;\n",
              "}\n",
              "#T_3226c_row3_col2, #T_3226c_row4_col0 {\n",
              "  background-color: #1d8e1d;\n",
              "  color: #f1f1f1;\n",
              "}\n",
              "#T_3226c_row3_col3 {\n",
              "  background-color: #d4e8d4;\n",
              "  color: #000000;\n",
              "}\n",
              "#T_3226c_row4_col1, #T_3226c_row13_col1, #T_3226c_row15_col1 {\n",
              "  background-color: #098509;\n",
              "  color: #f1f1f1;\n",
              "}\n",
              "#T_3226c_row4_col3 {\n",
              "  background-color: #d9ead9;\n",
              "  color: #000000;\n",
              "}\n",
              "#T_3226c_row5_col0 {\n",
              "  background-color: #48a348;\n",
              "  color: #f1f1f1;\n",
              "}\n",
              "#T_3226c_row5_col1 {\n",
              "  background-color: #018001;\n",
              "  color: #f1f1f1;\n",
              "}\n",
              "#T_3226c_row5_col2 {\n",
              "  background-color: #138913;\n",
              "  color: #f1f1f1;\n",
              "}\n",
              "#T_3226c_row5_col3 {\n",
              "  background-color: #ddecdd;\n",
              "  color: #000000;\n",
              "}\n",
              "#T_3226c_row6_col0 {\n",
              "  background-color: #188c18;\n",
              "  color: #f1f1f1;\n",
              "}\n",
              "#T_3226c_row6_col1 {\n",
              "  background-color: #078407;\n",
              "  color: #f1f1f1;\n",
              "}\n",
              "#T_3226c_row6_col3 {\n",
              "  background-color: #e2efe2;\n",
              "  color: #000000;\n",
              "}\n",
              "#T_3226c_row7_col0 {\n",
              "  background-color: #b6d9b6;\n",
              "  color: #000000;\n",
              "}\n",
              "#T_3226c_row7_col1 {\n",
              "  background-color: #269226;\n",
              "  color: #f1f1f1;\n",
              "}\n",
              "#T_3226c_row7_col2 {\n",
              "  background-color: #4ca54c;\n",
              "  color: #f1f1f1;\n",
              "}\n",
              "#T_3226c_row7_col3 {\n",
              "  background-color: #e3efe3;\n",
              "  color: #000000;\n",
              "}\n",
              "#T_3226c_row8_col0, #T_3226c_row12_col1 {\n",
              "  background-color: #42a042;\n",
              "  color: #f1f1f1;\n",
              "}\n",
              "#T_3226c_row8_col1 {\n",
              "  background-color: #239123;\n",
              "  color: #f1f1f1;\n",
              "}\n",
              "#T_3226c_row8_col2 {\n",
              "  background-color: #299429;\n",
              "  color: #f1f1f1;\n",
              "}\n",
              "#T_3226c_row8_col3, #T_3226c_row9_col3 {\n",
              "  background-color: #e7f1e7;\n",
              "  color: #000000;\n",
              "}\n",
              "#T_3226c_row9_col1 {\n",
              "  background-color: #028102;\n",
              "  color: #f1f1f1;\n",
              "}\n",
              "#T_3226c_row10_col0, #T_3226c_row10_col1, #T_3226c_row10_col2, #T_3226c_row13_col3 {\n",
              "  background-color: #ebf3eb;\n",
              "  color: #000000;\n",
              "}\n",
              "#T_3226c_row10_col3, #T_3226c_row11_col3 {\n",
              "  background-color: #e9f2e9;\n",
              "  color: #000000;\n",
              "}\n",
              "#T_3226c_row11_col0 {\n",
              "  background-color: #4aa44a;\n",
              "  color: #f1f1f1;\n",
              "}\n",
              "#T_3226c_row11_col1 {\n",
              "  background-color: #198c19;\n",
              "  color: #f1f1f1;\n",
              "}\n",
              "#T_3226c_row11_col2, #T_3226c_row13_col0, #T_3226c_row15_col0 {\n",
              "  background-color: #259225;\n",
              "  color: #f1f1f1;\n",
              "}\n",
              "#T_3226c_row12_col2 {\n",
              "  background-color: #2e972e;\n",
              "  color: #f1f1f1;\n",
              "}\n",
              "#T_3226c_row12_col3 {\n",
              "  background-color: #eaf2ea;\n",
              "  color: #000000;\n",
              "}\n",
              "#T_3226c_row13_col2, #T_3226c_row15_col2 {\n",
              "  background-color: #108810;\n",
              "  color: #f1f1f1;\n",
              "}\n",
              "#T_3226c_row14_col0 {\n",
              "  background-color: #3e9e3e;\n",
              "  color: #f1f1f1;\n",
              "}\n",
              "#T_3226c_row14_col1 {\n",
              "  background-color: #229122;\n",
              "  color: #f1f1f1;\n",
              "}\n",
              "#T_3226c_row14_col2 {\n",
              "  background-color: #289428;\n",
              "  color: #f1f1f1;\n",
              "}\n",
              "</style>\n",
              "<table id=\"T_3226c\" class=\"dataframe\">\n",
              "  <thead>\n",
              "    <tr>\n",
              "      <th class=\"blank level0\" >&nbsp;</th>\n",
              "      <th id=\"T_3226c_level0_col0\" class=\"col_heading level0 col0\" >precision</th>\n",
              "      <th id=\"T_3226c_level0_col1\" class=\"col_heading level0 col1\" >recall</th>\n",
              "      <th id=\"T_3226c_level0_col2\" class=\"col_heading level0 col2\" >f1-score</th>\n",
              "      <th id=\"T_3226c_level0_col3\" class=\"col_heading level0 col3\" >support</th>\n",
              "    </tr>\n",
              "  </thead>\n",
              "  <tbody>\n",
              "    <tr>\n",
              "      <th id=\"T_3226c_level0_row0\" class=\"row_heading level0 row0\" >0</th>\n",
              "      <td id=\"T_3226c_row0_col0\" class=\"data row0 col0\" >0.988571</td>\n",
              "      <td id=\"T_3226c_row0_col1\" class=\"data row0 col1\" >0.993618</td>\n",
              "      <td id=\"T_3226c_row0_col2\" class=\"data row0 col2\" >0.991088</td>\n",
              "      <td id=\"T_3226c_row0_col3\" class=\"data row0 col3\" >1567.000000</td>\n",
              "    </tr>\n",
              "    <tr>\n",
              "      <th id=\"T_3226c_level0_row1\" class=\"row_heading level0 row1\" >1</th>\n",
              "      <td id=\"T_3226c_row1_col0\" class=\"data row1 col0\" >0.993702</td>\n",
              "      <td id=\"T_3226c_row1_col1\" class=\"data row1 col1\" >0.990237</td>\n",
              "      <td id=\"T_3226c_row1_col2\" class=\"data row1 col2\" >0.991966</td>\n",
              "      <td id=\"T_3226c_row1_col3\" class=\"data row1 col3\" >1434.000000</td>\n",
              "    </tr>\n",
              "    <tr>\n",
              "      <th id=\"T_3226c_level0_row2\" class=\"row_heading level0 row2\" >2</th>\n",
              "      <td id=\"T_3226c_row2_col0\" class=\"data row2 col0\" >0.984629</td>\n",
              "      <td id=\"T_3226c_row2_col1\" class=\"data row2 col1\" >0.988851</td>\n",
              "      <td id=\"T_3226c_row2_col2\" class=\"data row2 col2\" >0.986735</td>\n",
              "      <td id=\"T_3226c_row2_col3\" class=\"data row2 col3\" >1166.000000</td>\n",
              "    </tr>\n",
              "    <tr>\n",
              "      <th id=\"T_3226c_level0_row3\" class=\"row_heading level0 row3\" >3</th>\n",
              "      <td id=\"T_3226c_row3_col0\" class=\"data row3 col0\" >0.974359</td>\n",
              "      <td id=\"T_3226c_row3_col1\" class=\"data row3 col1\" >0.966614</td>\n",
              "      <td id=\"T_3226c_row3_col2\" class=\"data row3 col2\" >0.970471</td>\n",
              "      <td id=\"T_3226c_row3_col3\" class=\"data row3 col3\" >629.000000</td>\n",
              "    </tr>\n",
              "    <tr>\n",
              "      <th id=\"T_3226c_level0_row4\" class=\"row_heading level0 row4\" >4</th>\n",
              "      <td id=\"T_3226c_row4_col0\" class=\"data row4 col0\" >0.986275</td>\n",
              "      <td id=\"T_3226c_row4_col1\" class=\"data row4 col1\" >0.982422</td>\n",
              "      <td id=\"T_3226c_row4_col2\" class=\"data row4 col2\" >0.984344</td>\n",
              "      <td id=\"T_3226c_row4_col3\" class=\"data row4 col3\" >512.000000</td>\n",
              "    </tr>\n",
              "    <tr>\n",
              "      <th id=\"T_3226c_level0_row5\" class=\"row_heading level0 row5\" >5</th>\n",
              "      <td id=\"T_3226c_row5_col0\" class=\"data row5 col0\" >0.965261</td>\n",
              "      <td id=\"T_3226c_row5_col1\" class=\"data row5 col1\" >0.992347</td>\n",
              "      <td id=\"T_3226c_row5_col2\" class=\"data row5 col2\" >0.978616</td>\n",
              "      <td id=\"T_3226c_row5_col3\" class=\"data row5 col3\" >392.000000</td>\n",
              "    </tr>\n",
              "    <tr>\n",
              "      <th id=\"T_3226c_level0_row6\" class=\"row_heading level0 row6\" >6</th>\n",
              "      <td id=\"T_3226c_row6_col0\" class=\"data row6 col0\" >0.988235</td>\n",
              "      <td id=\"T_3226c_row6_col1\" class=\"data row6 col1\" >0.984375</td>\n",
              "      <td id=\"T_3226c_row6_col2\" class=\"data row6 col2\" >0.986301</td>\n",
              "      <td id=\"T_3226c_row6_col3\" class=\"data row6 col3\" >256.000000</td>\n",
              "    </tr>\n",
              "    <tr>\n",
              "      <th id=\"T_3226c_level0_row7\" class=\"row_heading level0 row7\" >7</th>\n",
              "      <td id=\"T_3226c_row7_col0\" class=\"data row7 col0\" >0.912664</td>\n",
              "      <td id=\"T_3226c_row7_col1\" class=\"data row7 col1\" >0.950000</td>\n",
              "      <td id=\"T_3226c_row7_col2\" class=\"data row7 col2\" >0.930958</td>\n",
              "      <td id=\"T_3226c_row7_col3\" class=\"data row7 col3\" >220.000000</td>\n",
              "    </tr>\n",
              "    <tr>\n",
              "      <th id=\"T_3226c_level0_row8\" class=\"row_heading level0 row8\" >8</th>\n",
              "      <td id=\"T_3226c_row8_col0\" class=\"data row8 col0\" >0.968000</td>\n",
              "      <td id=\"T_3226c_row8_col1\" class=\"data row8 col1\" >0.952756</td>\n",
              "      <td id=\"T_3226c_row8_col2\" class=\"data row8 col2\" >0.960317</td>\n",
              "      <td id=\"T_3226c_row8_col3\" class=\"data row8 col3\" >127.000000</td>\n",
              "    </tr>\n",
              "    <tr>\n",
              "      <th id=\"T_3226c_level0_row9\" class=\"row_heading level0 row9\" >9</th>\n",
              "      <td id=\"T_3226c_row9_col0\" class=\"data row9 col0\" >1.000000</td>\n",
              "      <td id=\"T_3226c_row9_col1\" class=\"data row9 col1\" >0.990826</td>\n",
              "      <td id=\"T_3226c_row9_col2\" class=\"data row9 col2\" >0.995392</td>\n",
              "      <td id=\"T_3226c_row9_col3\" class=\"data row9 col3\" >109.000000</td>\n",
              "    </tr>\n",
              "    <tr>\n",
              "      <th id=\"T_3226c_level0_row10\" class=\"row_heading level0 row10\" >10</th>\n",
              "      <td id=\"T_3226c_row10_col0\" class=\"data row10 col0\" >0.887097</td>\n",
              "      <td id=\"T_3226c_row10_col1\" class=\"data row10 col1\" >0.723684</td>\n",
              "      <td id=\"T_3226c_row10_col2\" class=\"data row10 col2\" >0.797101</td>\n",
              "      <td id=\"T_3226c_row10_col3\" class=\"data row10 col3\" >76.000000</td>\n",
              "    </tr>\n",
              "    <tr>\n",
              "      <th id=\"T_3226c_level0_row11\" class=\"row_heading level0 row11\" >11</th>\n",
              "      <td id=\"T_3226c_row11_col0\" class=\"data row11 col0\" >0.964286</td>\n",
              "      <td id=\"T_3226c_row11_col1\" class=\"data row11 col1\" >0.964286</td>\n",
              "      <td id=\"T_3226c_row11_col2\" class=\"data row11 col2\" >0.964286</td>\n",
              "      <td id=\"T_3226c_row11_col3\" class=\"data row11 col3\" >56.000000</td>\n",
              "    </tr>\n",
              "    <tr>\n",
              "      <th id=\"T_3226c_level0_row12\" class=\"row_heading level0 row12\" >12</th>\n",
              "      <td id=\"T_3226c_row12_col0\" class=\"data row12 col0\" >1.000000</td>\n",
              "      <td id=\"T_3226c_row12_col1\" class=\"data row12 col1\" >0.916667</td>\n",
              "      <td id=\"T_3226c_row12_col2\" class=\"data row12 col2\" >0.956522</td>\n",
              "      <td id=\"T_3226c_row12_col3\" class=\"data row12 col3\" >36.000000</td>\n",
              "    </tr>\n",
              "    <tr>\n",
              "      <th id=\"T_3226c_level0_row13\" class=\"row_heading level0 row13\" >accuracy</th>\n",
              "      <td id=\"T_3226c_row13_col0\" class=\"data row13 col0\" >0.982067</td>\n",
              "      <td id=\"T_3226c_row13_col1\" class=\"data row13 col1\" >0.982067</td>\n",
              "      <td id=\"T_3226c_row13_col2\" class=\"data row13 col2\" >0.982067</td>\n",
              "      <td id=\"T_3226c_row13_col3\" class=\"data row13 col3\" >0.982067</td>\n",
              "    </tr>\n",
              "    <tr>\n",
              "      <th id=\"T_3226c_level0_row14\" class=\"row_heading level0 row14\" >macro avg</th>\n",
              "      <td id=\"T_3226c_row14_col0\" class=\"data row14 col0\" >0.970237</td>\n",
              "      <td id=\"T_3226c_row14_col1\" class=\"data row14 col1\" >0.953591</td>\n",
              "      <td id=\"T_3226c_row14_col2\" class=\"data row14 col2\" >0.961085</td>\n",
              "      <td id=\"T_3226c_row14_col3\" class=\"data row14 col3\" >6580.000000</td>\n",
              "    </tr>\n",
              "    <tr>\n",
              "      <th id=\"T_3226c_level0_row15\" class=\"row_heading level0 row15\" >weighted avg</th>\n",
              "      <td id=\"T_3226c_row15_col0\" class=\"data row15 col0\" >0.981990</td>\n",
              "      <td id=\"T_3226c_row15_col1\" class=\"data row15 col1\" >0.982067</td>\n",
              "      <td id=\"T_3226c_row15_col2\" class=\"data row15 col2\" >0.981893</td>\n",
              "      <td id=\"T_3226c_row15_col3\" class=\"data row15 col3\" >6580.000000</td>\n",
              "    </tr>\n",
              "  </tbody>\n",
              "</table>\n"
            ]
          },
          "metadata": {},
          "execution_count": 30
        }
      ],
      "source": [
        "styled_table,conf_matrix=confusion_matrix_ffnn(y_test_tensor,pred_vector)\n",
        "styled_table"
      ]
    },
    {
      "cell_type": "code",
      "execution_count": 31,
      "metadata": {
        "colab": {
          "base_uri": "https://localhost:8080/"
        },
        "id": "43ZzCmxaX124",
        "outputId": "53473190-b0a8-472e-be95-11d379d7c44b"
      },
      "outputs": [
        {
          "output_type": "stream",
          "name": "stdout",
          "text": [
            "[[1557    0    4    3    0    0    0    2    1    0    0    0    0]\n",
            " [   0 1420    0    1    4    6    0    0    0    0    1    2    0]\n",
            " [   7    0 1153    3    0    0    0    2    1    0    0    0    0]\n",
            " [   2    6    6  608    1    0    1    3    1    0    1    0    0]\n",
            " [   1    0    1    0  503    7    0    0    0    0    0    0    0]\n",
            " [   0    0    0    0    2  389    0    0    1    0    0    0    0]\n",
            " [   0    0    0    4    0    0  252    0    0    0    0    0    0]\n",
            " [   2    0    3    1    0    0    0  209    0    0    5    0    0]\n",
            " [   4    0    2    0    0    0    0    0  121    0    0    0    0]\n",
            " [   0    0    1    0    0    0    0    0    0  108    0    0    0]\n",
            " [   2    1    1    1    0    1    2   13    0    0   55    0    0]\n",
            " [   0    2    0    0    0    0    0    0    0    0    0   54    0]\n",
            " [   0    0    0    3    0    0    0    0    0    0    0    0   33]]\n"
          ]
        }
      ],
      "source": [
        "print(conf_matrix)"
      ]
    },
    {
      "cell_type": "code",
      "execution_count": 32,
      "metadata": {
        "colab": {
          "base_uri": "https://localhost:8080/",
          "height": 475
        },
        "id": "XQpkXJS3RCKw",
        "outputId": "35b9deb7-777d-4821-dab6-92d7b4f0f392"
      },
      "outputs": [
        {
          "output_type": "stream",
          "name": "stdout",
          "text": [
            "class wise accuracy on test data\n"
          ]
        },
        {
          "output_type": "execute_result",
          "data": {
            "text/plain": [
              "    Class  Accuracy\n",
              "0   PROPN  0.993618\n",
              "1     ADP  0.990237\n",
              "2    NOUN  0.988851\n",
              "3    VERB  0.966614\n",
              "4     DET  0.982422\n",
              "5    PRON  0.992347\n",
              "6     AUX  0.984375\n",
              "7     ADJ  0.950000\n",
              "8     NUM  0.952756\n",
              "9   CCONJ  0.990826\n",
              "10    ADV  0.723684\n",
              "11   PART  0.964286\n",
              "12   INTJ  0.916667"
            ],
            "text/html": [
              "\n",
              "  <div id=\"df-7aa38069-be76-48c7-a6b9-ee006073c447\" class=\"colab-df-container\">\n",
              "    <div>\n",
              "<style scoped>\n",
              "    .dataframe tbody tr th:only-of-type {\n",
              "        vertical-align: middle;\n",
              "    }\n",
              "\n",
              "    .dataframe tbody tr th {\n",
              "        vertical-align: top;\n",
              "    }\n",
              "\n",
              "    .dataframe thead th {\n",
              "        text-align: right;\n",
              "    }\n",
              "</style>\n",
              "<table border=\"1\" class=\"dataframe\">\n",
              "  <thead>\n",
              "    <tr style=\"text-align: right;\">\n",
              "      <th></th>\n",
              "      <th>Class</th>\n",
              "      <th>Accuracy</th>\n",
              "    </tr>\n",
              "  </thead>\n",
              "  <tbody>\n",
              "    <tr>\n",
              "      <th>0</th>\n",
              "      <td>PROPN</td>\n",
              "      <td>0.993618</td>\n",
              "    </tr>\n",
              "    <tr>\n",
              "      <th>1</th>\n",
              "      <td>ADP</td>\n",
              "      <td>0.990237</td>\n",
              "    </tr>\n",
              "    <tr>\n",
              "      <th>2</th>\n",
              "      <td>NOUN</td>\n",
              "      <td>0.988851</td>\n",
              "    </tr>\n",
              "    <tr>\n",
              "      <th>3</th>\n",
              "      <td>VERB</td>\n",
              "      <td>0.966614</td>\n",
              "    </tr>\n",
              "    <tr>\n",
              "      <th>4</th>\n",
              "      <td>DET</td>\n",
              "      <td>0.982422</td>\n",
              "    </tr>\n",
              "    <tr>\n",
              "      <th>5</th>\n",
              "      <td>PRON</td>\n",
              "      <td>0.992347</td>\n",
              "    </tr>\n",
              "    <tr>\n",
              "      <th>6</th>\n",
              "      <td>AUX</td>\n",
              "      <td>0.984375</td>\n",
              "    </tr>\n",
              "    <tr>\n",
              "      <th>7</th>\n",
              "      <td>ADJ</td>\n",
              "      <td>0.950000</td>\n",
              "    </tr>\n",
              "    <tr>\n",
              "      <th>8</th>\n",
              "      <td>NUM</td>\n",
              "      <td>0.952756</td>\n",
              "    </tr>\n",
              "    <tr>\n",
              "      <th>9</th>\n",
              "      <td>CCONJ</td>\n",
              "      <td>0.990826</td>\n",
              "    </tr>\n",
              "    <tr>\n",
              "      <th>10</th>\n",
              "      <td>ADV</td>\n",
              "      <td>0.723684</td>\n",
              "    </tr>\n",
              "    <tr>\n",
              "      <th>11</th>\n",
              "      <td>PART</td>\n",
              "      <td>0.964286</td>\n",
              "    </tr>\n",
              "    <tr>\n",
              "      <th>12</th>\n",
              "      <td>INTJ</td>\n",
              "      <td>0.916667</td>\n",
              "    </tr>\n",
              "  </tbody>\n",
              "</table>\n",
              "</div>\n",
              "    <div class=\"colab-df-buttons\">\n",
              "\n",
              "  <div class=\"colab-df-container\">\n",
              "    <button class=\"colab-df-convert\" onclick=\"convertToInteractive('df-7aa38069-be76-48c7-a6b9-ee006073c447')\"\n",
              "            title=\"Convert this dataframe to an interactive table.\"\n",
              "            style=\"display:none;\">\n",
              "\n",
              "  <svg xmlns=\"http://www.w3.org/2000/svg\" height=\"24px\" viewBox=\"0 -960 960 960\">\n",
              "    <path d=\"M120-120v-720h720v720H120Zm60-500h600v-160H180v160Zm220 220h160v-160H400v160Zm0 220h160v-160H400v160ZM180-400h160v-160H180v160Zm440 0h160v-160H620v160ZM180-180h160v-160H180v160Zm440 0h160v-160H620v160Z\"/>\n",
              "  </svg>\n",
              "    </button>\n",
              "\n",
              "  <style>\n",
              "    .colab-df-container {\n",
              "      display:flex;\n",
              "      gap: 12px;\n",
              "    }\n",
              "\n",
              "    .colab-df-convert {\n",
              "      background-color: #E8F0FE;\n",
              "      border: none;\n",
              "      border-radius: 50%;\n",
              "      cursor: pointer;\n",
              "      display: none;\n",
              "      fill: #1967D2;\n",
              "      height: 32px;\n",
              "      padding: 0 0 0 0;\n",
              "      width: 32px;\n",
              "    }\n",
              "\n",
              "    .colab-df-convert:hover {\n",
              "      background-color: #E2EBFA;\n",
              "      box-shadow: 0px 1px 2px rgba(60, 64, 67, 0.3), 0px 1px 3px 1px rgba(60, 64, 67, 0.15);\n",
              "      fill: #174EA6;\n",
              "    }\n",
              "\n",
              "    .colab-df-buttons div {\n",
              "      margin-bottom: 4px;\n",
              "    }\n",
              "\n",
              "    [theme=dark] .colab-df-convert {\n",
              "      background-color: #3B4455;\n",
              "      fill: #D2E3FC;\n",
              "    }\n",
              "\n",
              "    [theme=dark] .colab-df-convert:hover {\n",
              "      background-color: #434B5C;\n",
              "      box-shadow: 0px 1px 3px 1px rgba(0, 0, 0, 0.15);\n",
              "      filter: drop-shadow(0px 1px 2px rgba(0, 0, 0, 0.3));\n",
              "      fill: #FFFFFF;\n",
              "    }\n",
              "  </style>\n",
              "\n",
              "    <script>\n",
              "      const buttonEl =\n",
              "        document.querySelector('#df-7aa38069-be76-48c7-a6b9-ee006073c447 button.colab-df-convert');\n",
              "      buttonEl.style.display =\n",
              "        google.colab.kernel.accessAllowed ? 'block' : 'none';\n",
              "\n",
              "      async function convertToInteractive(key) {\n",
              "        const element = document.querySelector('#df-7aa38069-be76-48c7-a6b9-ee006073c447');\n",
              "        const dataTable =\n",
              "          await google.colab.kernel.invokeFunction('convertToInteractive',\n",
              "                                                    [key], {});\n",
              "        if (!dataTable) return;\n",
              "\n",
              "        const docLinkHtml = 'Like what you see? Visit the ' +\n",
              "          '<a target=\"_blank\" href=https://colab.research.google.com/notebooks/data_table.ipynb>data table notebook</a>'\n",
              "          + ' to learn more about interactive tables.';\n",
              "        element.innerHTML = '';\n",
              "        dataTable['output_type'] = 'display_data';\n",
              "        await google.colab.output.renderOutput(dataTable, element);\n",
              "        const docLink = document.createElement('div');\n",
              "        docLink.innerHTML = docLinkHtml;\n",
              "        element.appendChild(docLink);\n",
              "      }\n",
              "    </script>\n",
              "  </div>\n",
              "\n",
              "\n",
              "<div id=\"df-b050fbff-34a8-4d18-b098-ce5b16ae29c2\">\n",
              "  <button class=\"colab-df-quickchart\" onclick=\"quickchart('df-b050fbff-34a8-4d18-b098-ce5b16ae29c2')\"\n",
              "            title=\"Suggest charts\"\n",
              "            style=\"display:none;\">\n",
              "\n",
              "<svg xmlns=\"http://www.w3.org/2000/svg\" height=\"24px\"viewBox=\"0 0 24 24\"\n",
              "     width=\"24px\">\n",
              "    <g>\n",
              "        <path d=\"M19 3H5c-1.1 0-2 .9-2 2v14c0 1.1.9 2 2 2h14c1.1 0 2-.9 2-2V5c0-1.1-.9-2-2-2zM9 17H7v-7h2v7zm4 0h-2V7h2v10zm4 0h-2v-4h2v4z\"/>\n",
              "    </g>\n",
              "</svg>\n",
              "  </button>\n",
              "\n",
              "<style>\n",
              "  .colab-df-quickchart {\n",
              "      --bg-color: #E8F0FE;\n",
              "      --fill-color: #1967D2;\n",
              "      --hover-bg-color: #E2EBFA;\n",
              "      --hover-fill-color: #174EA6;\n",
              "      --disabled-fill-color: #AAA;\n",
              "      --disabled-bg-color: #DDD;\n",
              "  }\n",
              "\n",
              "  [theme=dark] .colab-df-quickchart {\n",
              "      --bg-color: #3B4455;\n",
              "      --fill-color: #D2E3FC;\n",
              "      --hover-bg-color: #434B5C;\n",
              "      --hover-fill-color: #FFFFFF;\n",
              "      --disabled-bg-color: #3B4455;\n",
              "      --disabled-fill-color: #666;\n",
              "  }\n",
              "\n",
              "  .colab-df-quickchart {\n",
              "    background-color: var(--bg-color);\n",
              "    border: none;\n",
              "    border-radius: 50%;\n",
              "    cursor: pointer;\n",
              "    display: none;\n",
              "    fill: var(--fill-color);\n",
              "    height: 32px;\n",
              "    padding: 0;\n",
              "    width: 32px;\n",
              "  }\n",
              "\n",
              "  .colab-df-quickchart:hover {\n",
              "    background-color: var(--hover-bg-color);\n",
              "    box-shadow: 0 1px 2px rgba(60, 64, 67, 0.3), 0 1px 3px 1px rgba(60, 64, 67, 0.15);\n",
              "    fill: var(--button-hover-fill-color);\n",
              "  }\n",
              "\n",
              "  .colab-df-quickchart-complete:disabled,\n",
              "  .colab-df-quickchart-complete:disabled:hover {\n",
              "    background-color: var(--disabled-bg-color);\n",
              "    fill: var(--disabled-fill-color);\n",
              "    box-shadow: none;\n",
              "  }\n",
              "\n",
              "  .colab-df-spinner {\n",
              "    border: 2px solid var(--fill-color);\n",
              "    border-color: transparent;\n",
              "    border-bottom-color: var(--fill-color);\n",
              "    animation:\n",
              "      spin 1s steps(1) infinite;\n",
              "  }\n",
              "\n",
              "  @keyframes spin {\n",
              "    0% {\n",
              "      border-color: transparent;\n",
              "      border-bottom-color: var(--fill-color);\n",
              "      border-left-color: var(--fill-color);\n",
              "    }\n",
              "    20% {\n",
              "      border-color: transparent;\n",
              "      border-left-color: var(--fill-color);\n",
              "      border-top-color: var(--fill-color);\n",
              "    }\n",
              "    30% {\n",
              "      border-color: transparent;\n",
              "      border-left-color: var(--fill-color);\n",
              "      border-top-color: var(--fill-color);\n",
              "      border-right-color: var(--fill-color);\n",
              "    }\n",
              "    40% {\n",
              "      border-color: transparent;\n",
              "      border-right-color: var(--fill-color);\n",
              "      border-top-color: var(--fill-color);\n",
              "    }\n",
              "    60% {\n",
              "      border-color: transparent;\n",
              "      border-right-color: var(--fill-color);\n",
              "    }\n",
              "    80% {\n",
              "      border-color: transparent;\n",
              "      border-right-color: var(--fill-color);\n",
              "      border-bottom-color: var(--fill-color);\n",
              "    }\n",
              "    90% {\n",
              "      border-color: transparent;\n",
              "      border-bottom-color: var(--fill-color);\n",
              "    }\n",
              "  }\n",
              "</style>\n",
              "\n",
              "  <script>\n",
              "    async function quickchart(key) {\n",
              "      const quickchartButtonEl =\n",
              "        document.querySelector('#' + key + ' button');\n",
              "      quickchartButtonEl.disabled = true;  // To prevent multiple clicks.\n",
              "      quickchartButtonEl.classList.add('colab-df-spinner');\n",
              "      try {\n",
              "        const charts = await google.colab.kernel.invokeFunction(\n",
              "            'suggestCharts', [key], {});\n",
              "      } catch (error) {\n",
              "        console.error('Error during call to suggestCharts:', error);\n",
              "      }\n",
              "      quickchartButtonEl.classList.remove('colab-df-spinner');\n",
              "      quickchartButtonEl.classList.add('colab-df-quickchart-complete');\n",
              "    }\n",
              "    (() => {\n",
              "      let quickchartButtonEl =\n",
              "        document.querySelector('#df-b050fbff-34a8-4d18-b098-ce5b16ae29c2 button');\n",
              "      quickchartButtonEl.style.display =\n",
              "        google.colab.kernel.accessAllowed ? 'block' : 'none';\n",
              "    })();\n",
              "  </script>\n",
              "</div>\n",
              "\n",
              "  <div id=\"id_55a48917-f726-4ef6-bbc2-9ada3b5ed73d\">\n",
              "    <style>\n",
              "      .colab-df-generate {\n",
              "        background-color: #E8F0FE;\n",
              "        border: none;\n",
              "        border-radius: 50%;\n",
              "        cursor: pointer;\n",
              "        display: none;\n",
              "        fill: #1967D2;\n",
              "        height: 32px;\n",
              "        padding: 0 0 0 0;\n",
              "        width: 32px;\n",
              "      }\n",
              "\n",
              "      .colab-df-generate:hover {\n",
              "        background-color: #E2EBFA;\n",
              "        box-shadow: 0px 1px 2px rgba(60, 64, 67, 0.3), 0px 1px 3px 1px rgba(60, 64, 67, 0.15);\n",
              "        fill: #174EA6;\n",
              "      }\n",
              "\n",
              "      [theme=dark] .colab-df-generate {\n",
              "        background-color: #3B4455;\n",
              "        fill: #D2E3FC;\n",
              "      }\n",
              "\n",
              "      [theme=dark] .colab-df-generate:hover {\n",
              "        background-color: #434B5C;\n",
              "        box-shadow: 0px 1px 3px 1px rgba(0, 0, 0, 0.15);\n",
              "        filter: drop-shadow(0px 1px 2px rgba(0, 0, 0, 0.3));\n",
              "        fill: #FFFFFF;\n",
              "      }\n",
              "    </style>\n",
              "    <button class=\"colab-df-generate\" onclick=\"generateWithVariable('class_accuracy_df')\"\n",
              "            title=\"Generate code using this dataframe.\"\n",
              "            style=\"display:none;\">\n",
              "\n",
              "  <svg xmlns=\"http://www.w3.org/2000/svg\" height=\"24px\"viewBox=\"0 0 24 24\"\n",
              "       width=\"24px\">\n",
              "    <path d=\"M7,19H8.4L18.45,9,17,7.55,7,17.6ZM5,21V16.75L18.45,3.32a2,2,0,0,1,2.83,0l1.4,1.43a1.91,1.91,0,0,1,.58,1.4,1.91,1.91,0,0,1-.58,1.4L9.25,21ZM18.45,9,17,7.55Zm-12,3A5.31,5.31,0,0,0,4.9,8.1,5.31,5.31,0,0,0,1,6.5,5.31,5.31,0,0,0,4.9,4.9,5.31,5.31,0,0,0,6.5,1,5.31,5.31,0,0,0,8.1,4.9,5.31,5.31,0,0,0,12,6.5,5.46,5.46,0,0,0,6.5,12Z\"/>\n",
              "  </svg>\n",
              "    </button>\n",
              "    <script>\n",
              "      (() => {\n",
              "      const buttonEl =\n",
              "        document.querySelector('#id_55a48917-f726-4ef6-bbc2-9ada3b5ed73d button.colab-df-generate');\n",
              "      buttonEl.style.display =\n",
              "        google.colab.kernel.accessAllowed ? 'block' : 'none';\n",
              "\n",
              "      buttonEl.onclick = () => {\n",
              "        google.colab.notebook.generateWithVariable('class_accuracy_df');\n",
              "      }\n",
              "      })();\n",
              "    </script>\n",
              "  </div>\n",
              "\n",
              "    </div>\n",
              "  </div>\n"
            ],
            "application/vnd.google.colaboratory.intrinsic+json": {
              "type": "dataframe",
              "variable_name": "class_accuracy_df",
              "summary": "{\n  \"name\": \"class_accuracy_df\",\n  \"rows\": 13,\n  \"fields\": [\n    {\n      \"column\": \"Class\",\n      \"properties\": {\n        \"dtype\": \"string\",\n        \"num_unique_values\": 13,\n        \"samples\": [\n          \"PART\",\n          \"CCONJ\",\n          \"PROPN\"\n        ],\n        \"semantic_type\": \"\",\n        \"description\": \"\"\n      }\n    },\n    {\n      \"column\": \"Accuracy\",\n      \"properties\": {\n        \"dtype\": \"number\",\n        \"std\": 0.07267151881990684,\n        \"min\": 0.7236842105263158,\n        \"max\": 0.9936183790682833,\n        \"num_unique_values\": 13,\n        \"samples\": [\n          0.9642857142857143,\n          0.9908256880733946,\n          0.9936183790682833\n        ],\n        \"semantic_type\": \"\",\n        \"description\": \"\"\n      }\n    }\n  ]\n}"
            }
          },
          "metadata": {},
          "execution_count": 32
        }
      ],
      "source": [
        "\n",
        "\n",
        "reverse_tag_vocab = {v: k for k, v in tag_vocab.get_stoi().items()}\n",
        "\n",
        "\n",
        "\n",
        "\n",
        "def calculate_ans_print_class_accuracy(confusion_matrix):\n",
        "    diagonal = confusion_matrix.diagonal()\n",
        "    class_totals = confusion_matrix.sum(axis=1)\n",
        "    class_accuracy = np.nan_to_num(diagonal / class_totals)\n",
        "    class_accuracy_data = [{\"Class\": reverse_tag_vocab[class_idx], \"Accuracy\": accuracy} for class_idx, accuracy in enumerate(class_accuracy)]\n",
        "    class_accuracy_df = pd.DataFrame(class_accuracy_data)\n",
        "    print(\"class wise accuracy on test data\")\n",
        "    return class_accuracy_df\n",
        "\n",
        "\n",
        "# Print DataFrame\n",
        "class_accuracy_df=calculate_ans_print_class_accuracy(conf_matrix)\n",
        "class_accuracy_df\n"
      ]
    },
    {
      "cell_type": "code",
      "execution_count": 33,
      "metadata": {
        "colab": {
          "base_uri": "https://localhost:8080/"
        },
        "id": "MGGdoO4yWtzQ",
        "outputId": "11482742-22cb-4ee4-f81f-9b162ca209fc"
      },
      "outputs": [
        {
          "output_type": "execute_result",
          "data": {
            "text/plain": [
              "tensor([5, 6, 4,  ..., 0, 9, 0])"
            ]
          },
          "metadata": {},
          "execution_count": 33
        }
      ],
      "source": [
        "y_test_tensor"
      ]
    },
    {
      "cell_type": "code",
      "execution_count": 37,
      "metadata": {
        "id": "uVJudhgZUQiX"
      },
      "outputs": [],
      "source": [
        "def find_tags_ffnn(data,model,tag_vocab):\n",
        "  ans=[]\n",
        "  model.eval()\n",
        "  with torch.no_grad():\n",
        "\n",
        "      for inputs1 in data:\n",
        "\n",
        "          inputs1 = inputs1.float()   # Convert input to float data type\n",
        "          outputs1 = model(inputs1)\n",
        "          predicted_val1 = transform_to_one_hot_user_ffnn(outputs1)\n",
        "          tag = next((key for key, value in tag_vocab.get_stoi().items() if value == predicted_val1), None)\n",
        "          ans.append(tag)\n",
        "  return ans\n"
      ]
    },
    {
      "cell_type": "code",
      "execution_count": 43,
      "metadata": {
        "colab": {
          "base_uri": "https://localhost:8080/"
        },
        "id": "cRS-NWV4ZlM1",
        "outputId": "e080dbf1-ccc2-4de4-9a4a-eb7b35c148a2"
      },
      "outputs": [
        {
          "output_type": "stream",
          "name": "stdout",
          "text": [
            "Your Sent: i want an early upgrade\n",
            "['i', 'want', 'an', 'early', 'upgrade']\n",
            "['PRON', 'VERB', 'DET', 'ADJ', 'NOUN']\n",
            "Your Sent: An apple a day keeps the doctor away\n",
            "['an', 'apple', 'a', 'day', 'keeps', 'the', 'doctor', 'away']\n",
            "['DET', 'ADJ', 'DET', 'NOUN', 'VERB', 'DET', 'NOUN', 'PROPN']\n"
          ]
        }
      ],
      "source": [
        "def run_model_on_user_input_ffnn(model,word_vocab,tag_vocab,user_input):\n",
        "  print(\"Your Sent:\", user_input)\n",
        "  input= user_input.lower().split()\n",
        "  # print(input)\n",
        "  input_p=[\"<s>\"] * p + input + [\"</s>\"] * s\n",
        "\n",
        "  input_encoded=sequence_to_idx_user(input_p,word_vocab)\n",
        "\n",
        "  input_one_hot_encoded=one_hot_encodeing_user(input_encoded,len(word_vocab))\n",
        "\n",
        "  input_mat_test = create_matrix_user(input_one_hot_encoded)\n",
        "\n",
        "  user_input = np.array(input_mat_test)\n",
        "  user_input_tensor = torch.tensor(user_input)\n",
        "\n",
        "  user_input_loader = DataLoader(user_input_tensor, batch_size=1)\n",
        "\n",
        "\n",
        "  ans=find_tags_ffnn(user_input_loader,model,tag_vocab)\n",
        "  print(input)\n",
        "  print(ans)\n",
        "\n",
        "run_model_on_user_input_ffnn(model,word_vocab,tag_vocab,user_input =\"i want an early upgrade\")\n",
        "\n",
        "run_model_on_user_input_ffnn(model,word_vocab,tag_vocab,user_input =\"An apple a day keeps the doctor away\")"
      ]
    },
    {
      "cell_type": "code",
      "execution_count": 44,
      "metadata": {
        "id": "cxiu4g5NvHZI"
      },
      "outputs": [],
      "source": [
        "# user_input1 =\"An apple a day keeps the doctor away\"\n",
        "# print(\"Your Sent:\", user_input1)\n",
        "# input= user_input1.lower().split()\n",
        "# # print(input)\n",
        "# input_p=[\"<s>\"] * p + input + [\"</s>\"] * s\n",
        "\n",
        "# input_encoded=sequence_to_idx_user(input_p,word_vocab)\n",
        "# input_one_hot_encoded=transform_to_one_hot_user(input_encoded,len(word_vocab))\n",
        "# input_mat_test = create_matrix_user(input_one_hot_encoded)\n",
        "\n",
        "# user_input = np.array(input_mat_test)\n",
        "# user_input_tensor = torch.tensor(user_input)\n",
        "\n",
        "# user_input_loader = DataLoader(user_input_tensor, batch_size=1)\n",
        "\n",
        "\n",
        "# ans=find_tags(user_input_loader,model)\n",
        "# print(input)\n",
        "# print(ans)"
      ]
    },
    {
      "cell_type": "code",
      "source": [
        "accuracy=[0.9587473652514303, 0.9750522396868413, 0.9770522396868413, 0.9766208973200843, 0.9766636555254441]\n",
        "p_s=[0, 1, 2, 3, 4]\n",
        "\n",
        "plt.figure(figsize=(10, 5))\n",
        "plt.plot(p_s, accuracy, marker='o', color='orange', label='Validation Loss')\n",
        "plt.title('Validation accuracy vs context_window')\n",
        "plt.xlabel('context_window')\n",
        "plt.ylabel('accuracy')\n",
        "plt.legend()\n",
        "plt.grid(True)\n",
        "plt.show()"
      ],
      "metadata": {
        "colab": {
          "base_uri": "https://localhost:8080/",
          "height": 448
        },
        "id": "pdsGNZVg95Cm",
        "outputId": "81a0b5c8-6ca4-4109-c3b8-387785f9f9b5"
      },
      "execution_count": 45,
      "outputs": [
        {
          "output_type": "display_data",
          "data": {
            "text/plain": [
              "<Figure size 1000x500 with 1 Axes>"
            ],
            "image/png": "[encoded data removed]"
          },
          "metadata": {}
        }
      ]
    },
    {
      "cell_type": "markdown",
      "source": [],
      "metadata": {
        "id": "6RzBuJqS-vSr"
      }
    }
  ],
  "metadata": {
    "accelerator": "GPU",
    "colab": {
      "gpuType": "T4",
      "provenance": []
    },
    "kernelspec": {
      "display_name": "Python 3",
      "name": "python3"
    },
    "language_info": {
      "name": "python"
    }
  },
  "nbformat": 4,
  "nbformat_minor": 0
}